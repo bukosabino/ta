{
 "cells": [
  {
   "cell_type": "code",
   "execution_count": 1,
   "metadata": {},
   "outputs": [],
   "source": [
    "# https://stockcharts.com/school/doku.php?id=chart_school:technical_indicators:average_directional_index_adx"
   ]
  },
  {
   "cell_type": "code",
   "execution_count": 17,
   "metadata": {},
   "outputs": [],
   "source": [
    "import pandas as pd\n",
    "\n",
    "import sys\n",
    "sys.path.append(\"..\") # Adds higher directory to python modules path.\n",
    "from ta import *"
   ]
  },
  {
   "cell_type": "code",
   "execution_count": 48,
   "metadata": {},
   "outputs": [],
   "source": [
    "high_data = [30.20\n",
    ",30.28\n",
    ",30.45\n",
    ",29.35\n",
    ",29.35\n",
    ",29.29\n",
    ",28.83\n",
    ",28.73\n",
    ",28.67\n",
    ",28.85\n",
    ",28.64\n",
    ",27.68\n",
    ",27.21\n",
    ",26.87\n",
    ",27.41\n",
    ",26.94\n",
    ",26.52\n",
    ",26.52\n",
    ",27.09\n",
    ",27.69\n",
    ",28.45\n",
    ",28.53\n",
    ",28.67\n",
    ",29.01\n",
    ",29.87\n",
    ",29.80\n",
    ",29.75\n",
    ",30.65\n",
    ",30.60\n",
    ",30.76\n",
    "]\n",
    "\n",
    "low_data = [29.41\n",
    ",29.32\n",
    ",29.96\n",
    ",28.74\n",
    ",28.56\n",
    ",28.41\n",
    ",28.08\n",
    ",27.43\n",
    ",27.66\n",
    ",27.83\n",
    ",27.40\n",
    ",27.09\n",
    ",26.18\n",
    ",26.13\n",
    ",26.63\n",
    ",26.13\n",
    ",25.43\n",
    ",25.35\n",
    ",25.88\n",
    ",26.96\n",
    ",27.14\n",
    ",28.01\n",
    ",27.88\n",
    ",27.99\n",
    ",28.76\n",
    ",29.14\n",
    ",28.71\n",
    ",28.93\n",
    ",30.03\n",
    ",29.39\n",
    "]\n",
    "\n",
    "close_data = [29.87\n",
    ",30.24\n",
    ",30.10\n",
    ",28.90\n",
    ",28.92\n",
    ",28.48\n",
    ",28.56\n",
    ",27.56\n",
    ",28.47\n",
    ",28.28\n",
    ",27.49\n",
    ",27.23\n",
    ",26.35\n",
    ",26.33\n",
    ",27.03\n",
    ",26.22\n",
    ",26.01\n",
    ",25.46\n",
    ",27.03\n",
    ",27.45\n",
    ",28.36\n",
    ",28.43\n",
    ",27.95\n",
    ",29.01\n",
    ",29.38\n",
    ",29.36\n",
    ",28.91\n",
    ",30.61\n",
    ",30.05\n",
    ",30.19\n",
    "]"
   ]
  },
  {
   "cell_type": "code",
   "execution_count": 49,
   "metadata": {},
   "outputs": [],
   "source": [
    "df = pd.DataFrame()\n",
    "\n",
    "df['high'] = high_data\n",
    "df['low'] = low_data\n",
    "df['close'] = close_data"
   ]
  },
  {
   "cell_type": "code",
   "execution_count": 130,
   "metadata": {},
   "outputs": [],
   "source": [
    "# trend.adx(df.high, df.low, df.close, fillna=False)\n",
    "\n",
    "close = df['close']\n",
    "high = df['high']\n",
    "low = df['low']\n",
    "n = 14\n",
    "fillna = False\n",
    "\n",
    "cs = close.shift(1)\n",
    "tr = high.combine(cs, lambda x1, x2: max(x1, x2) if np.isnan(x1) == False and np.isnan(x2) == False else np.nan) - low.combine(cs,  lambda x1, x2: min(x1, x2) if np.isnan(x1) == False and np.isnan(x2) == False else np.nan)\n",
    "\n",
    "trs = np.zeros(len(close))\n",
    "trs[0] = tr.dropna()[0:n].sum()\n",
    "for i in range(1, len(trs)):\n",
    "    trs[i] = trs[i-1] - (trs[i-1]/float(n)) + tr[i]\n",
    "\n",
    "up = high - high.shift(1)\n",
    "dn = low.shift(1) - low\n",
    "pos = ((up > dn) & (up > 0)) * up\n",
    "neg = ((dn > up) & (dn > 0)) * dn\n",
    "\n",
    "dip = 100 * pos.rolling(window=n).sum() / trs\n",
    "din = 100 * neg.rolling(window=n).sum() / trs\n",
    "\n",
    "dx = 100 * np.abs((dip - din) / (dip + din))\n",
    "\n",
    "adx = np.zeros(len(close))\n",
    "adx[n] = dx.dropna()[0:n].mean()\n",
    "for i in range(n+1, len(adx)):\n",
    "    adx[i] = ((adx[i-1] * (n-1)) + dx[i]) / float(n)"
   ]
  },
  {
   "cell_type": "code",
   "execution_count": 132,
   "metadata": {},
   "outputs": [
    {
     "data": {
      "text/plain": [
       "array([ 0.        ,  0.        ,  0.        ,  0.        ,  0.        ,\n",
       "        0.        ,  0.        ,  0.        ,  0.        ,  0.        ,\n",
       "        0.        ,  0.        ,  0.        ,  0.        , 37.5082627 ,\n",
       "       39.7096298 , 42.34361095, 44.40888767, 44.96698299, 44.28252816,\n",
       "       42.23414012, 39.53015038, 36.84087834, 34.2688118 , 33.3072862 ,\n",
       "       32.85082309, 33.19712966, 34.21052149, 34.81101636, 35.13481964])"
      ]
     },
     "execution_count": 132,
     "metadata": {},
     "output_type": "execute_result"
    }
   ],
   "source": [
    "adx"
   ]
  }
 ],
 "metadata": {
  "kernelspec": {
   "display_name": "Python 3",
   "language": "python",
   "name": "python3"
  },
  "language_info": {
   "codemirror_mode": {
    "name": "ipython",
    "version": 3
   },
   "file_extension": ".py",
   "mimetype": "text/x-python",
   "name": "python",
   "nbconvert_exporter": "python",
   "pygments_lexer": "ipython3",
   "version": "3.6.6"
  }
 },
 "nbformat": 4,
 "nbformat_minor": 2
}
